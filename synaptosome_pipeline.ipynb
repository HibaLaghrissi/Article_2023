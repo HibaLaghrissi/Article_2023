{
 "cells": [
  {
   "cell_type": "code",
   "execution_count": null,
   "id": "54305f1a-bb2f-45a6-aacc-49ee8f602e94",
   "metadata": {
    "collapsed": true,
    "jupyter": {
     "outputs_hidden": true
    },
    "tags": [],
    "vscode": {
     "languageId": "r"
    }
   },
   "outputs": [],
   "source": [
    "library(Rsubread)\n",
    "library(repr)\n",
    "library(ggplot2)\n",
    "library(ggrepel)\n",
    "require(dplyr)\n",
    "library(tidyr) \n",
    "library(reshape2)\n",
    "library(\"DESeq2\")\n",
    "library(RColorBrewer)\n",
    "library( \"gplots\" )\n",
    "require('biomaRt')\n",
    "require('pheatmap')\n",
    "require(GenomicFeatures)\n",
    "require('plotly')\n",
    "require(TxDb.Dmelanogaster.UCSC.dm6.ensGene)\n",
    "require('edgeR')\n",
    "library(\"ggpubr\")\n",
    "library('htmlwidgets')"
   ]
  },
  {
   "cell_type": "code",
   "execution_count": null,
   "id": "a8bddfda-525b-408c-aca2-079b3a41336d",
   "metadata": {
    "vscode": {
     "languageId": "r"
    }
   },
   "outputs": [],
   "source": [
    "#import ENSEMBL database\n",
    "listEnsembl()\n",
    "mart <- useMart(biomart = \"ensembl\", \n",
    "                dataset = \"dmelanogaster_gene_ensembl\", \n",
    "                host = \"https://www.ensembl.org\")\n",
    "mart <- useDataset(dataset=\"dmelanogaster_gene_ensembl\", mart=mart)"
   ]
  },
  {
   "cell_type": "markdown",
   "id": "a41e9448-5c0d-403a-85fa-aad64e5245ad",
   "metadata": {
    "tags": []
   },
   "source": [
    "# 1- FeatureCounts"
   ]
  },
  {
   "cell_type": "code",
   "execution_count": null,
   "id": "9cc889c6-9ccb-4ed6-83bf-b679c9828cf8",
   "metadata": {
    "vscode": {
     "languageId": "r"
    }
   },
   "outputs": [],
   "source": [
    "annotation_file=\"../../../../genome/Drosophila_melanogaster.BDGP6.32.107.gtf\"\n",
    "fasta_file=\"../../../../genome/Drosophila_melanogaster.BDGP6.32.dna_sm.toplevel.fa\"\n",
    "\n",
    "\n",
    "# FOR WT SAMPLES :\n",
    "counts.matrix.g080 <-featureCounts(\n",
    "              files = c('FBE14.bam','FBE15.bam','FBE16.bam','FBE17.bam','FBE18.bam','FBE19.bam'), \n",
    "              GTF.attrType = \"gene_id\",\n",
    "              annot.ext = annotation_file,\n",
    "              genome= fasta_file,\n",
    "              isGTFAnnotationFile = TRUE,\n",
    "              useMetaFeatures=TRUE,\n",
    "              GTF.featureType= \"gene\",\n",
    "              nthreads = 40,\n",
    "              isPairedEnd = TRUE,\n",
    "              requireBothEndsMapped = TRUE,\n",
    "              countChimericFragments = FALSE,\n",
    "              juncCounts = TRUE)\n",
    "\n",
    "\n",
    "\n",
    "# FOR DPLD SAMPLES :\n",
    "counts.matrix.dpld <-featureCounts(\n",
    "              files = c('FBE21.bam','FBE22.bam','FBE23.bam','FBE24.bam','FBE25.bam','FBE26.bam'), \n",
    "              GTF.attrType = \"gene_id\",\n",
    "              annot.ext = annotation_file,\n",
    "              genome= fasta_file,\n",
    "              isGTFAnnotationFile = TRUE,\n",
    "              useMetaFeatures=TRUE,\n",
    "              GTF.featureType= \"gene\",\n",
    "              nthreads = 40,\n",
    "              isPairedEnd = TRUE,\n",
    "              requireBothEndsMapped = TRUE,\n",
    "              countChimericFragments = FALSE,\n",
    "              juncCounts = TRUE)"
   ]
  },
  {
   "cell_type": "code",
   "execution_count": null,
   "id": "0379d825",
   "metadata": {
    "vscode": {
     "languageId": "r"
    }
   },
   "outputs": [],
   "source": [
    "counts.matrix.g080 = readRDS(\"../../Analysis/synaptosome-july-2022/4.feature-counts/noCnoB/counts_G080_flybase.rds\")"
   ]
  },
  {
   "cell_type": "code",
   "execution_count": null,
   "id": "4e92cf0c",
   "metadata": {
    "vscode": {
     "languageId": "r"
    }
   },
   "outputs": [],
   "source": [
    "counts.matrix.dpld = readRDS(\"../../Analysis/synaptosome-july-2022/4.feature-counts/noCnoB/counts_dPLD_flybase.rds\")"
   ]
  },
  {
   "cell_type": "code",
   "execution_count": null,
   "id": "70de8998-90d0-4608-9060-170916116d09",
   "metadata": {
    "vscode": {
     "languageId": "r"
    }
   },
   "outputs": [],
   "source": [
    "#convert the matrix to data frame\n",
    "count.g080=as.data.frame(counts.matrix.g080$counts)\n",
    "count.dpld=as.data.frame(counts.matrix.dpld$counts)"
   ]
  },
  {
   "cell_type": "markdown",
   "id": "63244d76-3041-4007-9ab3-12fbafd3bcec",
   "metadata": {},
   "source": [
    "## 2- Data preparation"
   ]
  },
  {
   "cell_type": "markdown",
   "id": "d48b9f1b",
   "metadata": {},
   "source": [
    "## -- WT --"
   ]
  },
  {
   "cell_type": "code",
   "execution_count": null,
   "id": "fb89dd51-cb4c-4e5b-97d2-f761ee41d9e7",
   "metadata": {
    "vscode": {
     "languageId": "r"
    }
   },
   "outputs": [],
   "source": [
    "print(\"original dimension\")\n",
    "dim(count.g080)\n",
    "\n",
    "#here we remove all the Fbti\n",
    "keep=NULL\n",
    "keep <- count.g080[!grepl(\"FBti\", row.names(count.g080)),] \n",
    "genesTokeep=which(rownames(count.g080) %in% row.names(keep))\n",
    "count.g080 <- count.g080[genesTokeep, ]\n",
    "print(\"after removing genes with FBti\")\n",
    "dim(count.g080)\n",
    "\n",
    "#here we remove all the transposable element (they start with RR)\n",
    "keep=NULL\n",
    "keep <- count.g080[!grepl(\"RR\", row.names(count.g080)),] \n",
    "genesTokeep=which(rownames(count.g080) %in% row.names(keep))\n",
    "count.g080 <- count.g080[genesTokeep, ]\n",
    "print(\"after removing genes with RR\")\n",
    "dim(count.g080)\n",
    "\n",
    "#here we remove genes with 0 reads in all samples\n",
    "keep_genes <- rowSums(count.g080) > 0 #TRUE if the gene has more that 0 reads, if not : FALSE\n",
    "count.g080 <- count.g080[ keep_genes, ]\n",
    "print(\"after removing genes with 0 reads\")\n",
    "dim(count.g080) #I removed the 2000 genes with 0 reads\n",
    "\n",
    "#cpm filtering\n",
    "keep <- rowSums(cpm(count.g080) > 0.5) >= 3\n",
    "count.g080<- count.g080[keep , ]\n",
    "print('after removing genes with cpm')\n",
    "dim(count.g080)"
   ]
  },
  {
   "cell_type": "markdown",
   "id": "8f934c2e",
   "metadata": {},
   "source": [
    "## -- DPLD --"
   ]
  },
  {
   "cell_type": "code",
   "execution_count": null,
   "id": "1ad58f7c-56ae-4bc1-82c1-446fbb8a1a6d",
   "metadata": {
    "vscode": {
     "languageId": "r"
    }
   },
   "outputs": [],
   "source": [
    "print(\"original dimension\")\n",
    "dim(count.dpld)\n",
    "\n",
    "#here we remove all the Fbti\n",
    "keep=NULL\n",
    "keep <- count.dpld[!grepl(\"FBti\", row.names(count.dpld)),] \n",
    "genesTokeep=which(rownames(count.dpld) %in% row.names(keep))\n",
    "count.dpld <- count.dpld[genesTokeep, ]\n",
    "print(\"after removing genes with FBti\")\n",
    "dim(count.dpld)\n",
    "\n",
    "#here we remove all the transposable element (they start with RR)\n",
    "keep=NULL\n",
    "keep <- count.dpld[!grepl(\"RR\", row.names(count.dpld)),] \n",
    "genesTokeep=which(rownames(count.dpld) %in% row.names(keep))\n",
    "count.dpld <- count.dpld[genesTokeep, ]\n",
    "print(\"after removing genes with RR\")\n",
    "dim(count.dpld)\n",
    "\n",
    "#here we remove genes with 0 reads in all samples\n",
    "keep_genes <- rowSums(count.dpld) > 0 #TRUE if the gene has more that 0 reads, if not : FALSE\n",
    "count.dpld <- count.dpld[ keep_genes, ]\n",
    "print(\"after removing genes with 0 reads\")\n",
    "dim(count.dpld) #I removed the 2000 genes with 0 reads\n",
    "\n",
    "#cpm filtering\n",
    "keep <- rowSums(cpm(count.dpld) > 0.5) >= 3\n",
    "count.dpld<- count.dpld[keep , ]\n",
    "print('after removing genes with cpm')\n",
    "dim(count.dpld)"
   ]
  },
  {
   "cell_type": "markdown",
   "id": "d31f3ef7",
   "metadata": {},
   "source": [
    "# 3- Build DESeq2 matrix"
   ]
  },
  {
   "cell_type": "markdown",
   "id": "4b1d14d2",
   "metadata": {},
   "source": [
    "The files are organized as follows:\n",
    "FBE14 : original input\n",
    "FBE15 : fraction from FBE14 enriched in synaptosomes\n",
    "FBE16 : original input\n",
    "FBE17 : fraction from FBE16 enriched in synaptosomes\n",
    "...\n",
    "so there is 2 relationships between samples to consider :\n",
    "- condition : input or synaptosomes enriched\n",
    "- sample.ID : (FBE14+FBE15), (FBE16+FB17), ..."
   ]
  },
  {
   "cell_type": "code",
   "execution_count": null,
   "id": "1c5c1e3d-ec94-46fa-b075-41fb407a500c",
   "metadata": {
    "vscode": {
     "languageId": "r"
    }
   },
   "outputs": [],
   "source": [
    "#setting up sample info:\n",
    "sample_info <- DataFrame(condition = c(\"input\",\"synap\", \"input\", \"synap\", \"input\", \"synap\"),sample.ID=c(\"1\",\"1\",\"2\",\"2\",\"3\",\"3\"), row.names = names(count) )\n",
    "sample_info$condition=as.factor(sample_info$condition)\n",
    "sample_info$sample.ID=as.factor(sample_info$sample.ID)"
   ]
  },
  {
   "cell_type": "markdown",
   "id": "3ef9dec9",
   "metadata": {},
   "source": [
    "## -- WT --"
   ]
  },
  {
   "cell_type": "code",
   "execution_count": null,
   "id": "e072bcda",
   "metadata": {
    "vscode": {
     "languageId": "r"
    }
   },
   "outputs": [],
   "source": [
    "#intializing dds object:\n",
    "dds.g080 <- DESeqDataSetFromMatrix(countData = count.g080,colData = sample_info,design = ~ condition + sample.ID)\n"
   ]
  },
  {
   "cell_type": "markdown",
   "id": "faf8adb3",
   "metadata": {},
   "source": [
    "## -- DPLD --"
   ]
  },
  {
   "cell_type": "code",
   "execution_count": null,
   "id": "9fba0f65",
   "metadata": {
    "vscode": {
     "languageId": "r"
    }
   },
   "outputs": [],
   "source": [
    "#intializing dds object:\n",
    "dds.dpld <- DESeqDataSetFromMatrix(countData = count.dpld,colData = sample_info,design = ~ condition + sample.ID)\n"
   ]
  },
  {
   "cell_type": "markdown",
   "id": "0d374e66",
   "metadata": {},
   "source": [
    "### plot 1 : number of reads per sample"
   ]
  },
  {
   "cell_type": "code",
   "execution_count": null,
   "id": "32429dc6-1cb2-47ba-96ed-b02a89497bd3",
   "metadata": {
    "vscode": {
     "languageId": "r"
    }
   },
   "outputs": [],
   "source": [
    "g=melt(colSums(counts(dds.g080)))\n",
    "readCounts_plot<-ggplot(data=g, aes(x=rownames(g), y=value, fill=rownames(g))) +\n",
    "  geom_bar(stat=\"identity\") +\n",
    "  #scale_fill_manual(values = mycolors)\n",
    "    scale_fill_brewer(palette=\"Dark2\") + theme(legend.position = \"none\") +\n",
    "  geom_text(aes(label=value), vjust=1.6, color=\"white\", size=6) +\n",
    "  ggtitle(\"Total number of sequenced genes per sample\")+ theme(text = element_text(size=20), axis.text.x = element_text(size=15, angle = 45))+\n",
    "  xlab(\"Samples\") + ylab(\"read counts\")\n",
    "readCounts_plot"
   ]
  },
  {
   "cell_type": "code",
   "execution_count": null,
   "id": "909bdb11-a812-4de2-bc72-3d0a65f7c8b2",
   "metadata": {
    "vscode": {
     "languageId": "r"
    }
   },
   "outputs": [],
   "source": [
    "g=melt(colSums(counts(dds.dpld)))\n",
    "readCounts_plot<-ggplot(data=g, aes(x=rownames(g), y=value, fill=rownames(g))) +\n",
    "  geom_bar(stat=\"identity\") +\n",
    "  #scale_fill_manual(values = mycolors)\n",
    "    scale_fill_brewer(palette=\"Dark2\") + theme(legend.position = \"none\") +\n",
    "  geom_text(aes(label=value), vjust=1.6, color=\"white\", size=6) +\n",
    "  ggtitle(\"Total number of sequenced genes per sample\")+ theme(text = element_text(size=20), axis.text.x = element_text(size=15, angle = 45))+\n",
    "  xlab(\"Samples\") + ylab(\"read counts\")\n",
    "readCounts_plot"
   ]
  },
  {
   "cell_type": "markdown",
   "id": "a3a7ead3",
   "metadata": {},
   "source": [
    "# 4- Normalization by DESeq2"
   ]
  },
  {
   "cell_type": "markdown",
   "id": "d80cc2d1",
   "metadata": {},
   "source": [
    "## By DESeq2"
   ]
  },
  {
   "cell_type": "markdown",
   "id": "a8fc3b02",
   "metadata": {},
   "source": [
    "## -- WT --"
   ]
  },
  {
   "cell_type": "code",
   "execution_count": null,
   "id": "0f1a58db",
   "metadata": {
    "vscode": {
     "languageId": "r"
    }
   },
   "outputs": [],
   "source": [
    "dds.g080 <- estimateSizeFactors(dds.g080)\n",
    "sizeFactors(dds.g080)\n",
    "normalized_counts_byDeseq2_g080 <- counts(dds.g080, normalized=TRUE)\n",
    "head(normalized_counts_byDeseq2_g080)\n",
    "\n",
    "# prepare files to save them later : by adding gene names\n",
    "normalized_counts_byDeseq2_g080=as.data.frame(normalized_counts_byDeseq2_g080)\n",
    "mapping_geneName =  getBM(attributes=c(\"ensembl_gene_id\",\"external_gene_name\"), mart=mart, values=normalized_counts_byDeseq2_g080, uniqueRows=TRUE, bmHeader = T)\n",
    "normalized_counts_byDeseq2_g080$genes=row.names(normalized_counts_byDeseq2_g080)\n",
    "normalized_counts_byDeseq2_g080 = merge(normalized_counts_byDeseq2_g080, mapping_geneName, by.x='genes', by.y=\"Gene stable ID\", all.x=TRUE, all.y=FALSE)\n"
   ]
  },
  {
   "cell_type": "markdown",
   "id": "60ed4d16",
   "metadata": {},
   "source": [
    "## -- DPLD --"
   ]
  },
  {
   "cell_type": "code",
   "execution_count": null,
   "id": "c39b49a3",
   "metadata": {
    "vscode": {
     "languageId": "r"
    }
   },
   "outputs": [],
   "source": [
    "dds.dpld <- estimateSizeFactors(dds.dpld)\n",
    "sizeFactors(dds.dpld)\n",
    "normalized_counts_byDeseq2_dpld <- counts(dds.dpld, normalized=TRUE)\n",
    "head(normalized_counts_byDeseq2_dpld)\n",
    "\n",
    "# prepare files to save them later : by adding gene names\n",
    "normalized_counts_byDeseq2_dpld=as.data.frame(normalized_counts_byDeseq2_dpld)\n",
    "mapping_geneName =  getBM(attributes=c(\"ensembl_gene_id\",\"external_gene_name\"), mart=mart, values=normalized_counts_byDeseq2_dpld, uniqueRows=TRUE, bmHeader = T)\n",
    "normalized_counts_byDeseq2_dpld$genes=row.names(normalized_counts_byDeseq2_dpld)\n",
    "normalized_counts_byDeseq2_dpld = merge(normalized_counts_byDeseq2_dpld, mapping_geneName, by.x='genes', by.y=\"Gene stable ID\", all.x=TRUE, all.y=FALSE)"
   ]
  },
  {
   "cell_type": "code",
   "execution_count": null,
   "id": "424a7eea",
   "metadata": {
    "vscode": {
     "languageId": "r"
    }
   },
   "outputs": [],
   "source": []
  },
  {
   "cell_type": "markdown",
   "id": "ce7bce15",
   "metadata": {},
   "source": [
    "# 5- Transformation and quality control"
   ]
  },
  {
   "cell_type": "markdown",
   "id": "9a2a1dcb",
   "metadata": {},
   "source": [
    "## -- WT --"
   ]
  },
  {
   "cell_type": "code",
   "execution_count": null,
   "id": "657fe495",
   "metadata": {
    "vscode": {
     "languageId": "r"
    }
   },
   "outputs": [],
   "source": [
    "#rlog transformation\n",
    "rld.g080 <- rlog( dds.g080 )\n",
    "assay(rld.g080)[ 1:3,]\n",
    "\n",
    "options(repr.plot.width=10, repr.plot.height=10)\n",
    "\n",
    "\n",
    "#plot : before transformation (just a simple log to help visualization\n",
    "plot( log2( 1+counts(dds.g080, normalized=TRUE)[, 1:2] ), col=\"#00000020\", pch=20, cex=0.3, main=\"non-transformed data\", cex.main=3, cex.axis=2 )\n",
    "#plot : after transformation \n",
    "plot( assay(rld.g080)[, 3:4], col=\"#00000020\", pch=20, cex=0.3, main=\"rlog-transformed data\", cex.main=3, cex.axis=2)\n"
   ]
  },
  {
   "cell_type": "code",
   "execution_count": null,
   "id": "eb23bf1b",
   "metadata": {
    "vscode": {
     "languageId": "r"
    }
   },
   "outputs": [],
   "source": [
    "\n",
    "# Distance matrice : assess overall similarity between samples\n",
    "sampleDists_rld.g080 <- dist(t(assay(rld.g080)))\n",
    "sampleDistMatrix_rld.g080 <- as.matrix( sampleDists_rld.g080 )\n",
    "rownames(sampleDistMatrix_rld.g080) <- dds.g080$condition\n",
    "colnames(sampleDistMatrix_rld.g080) <- colnames(rld.g080)  \n",
    "colours = colorRampPalette( rev(brewer.pal(9, \"Blues\")) )(255)\n",
    "pheatmap_distMatrice.g080=pheatmap(sampleDistMatrix_rld.g080,\n",
    "         clustering_distance_rows=sampleDists_rld.g080,\n",
    "         clustering_distance_cols=sampleDists_rld.g080,\n",
    "         col=colours, main=\"G080 : Distance matrice after rlog transformation\",     \n",
    "cellheight=80, cellwidth = 80)\n",
    "\n",
    "pheatmap_distMatrice.g080"
   ]
  },
  {
   "cell_type": "markdown",
   "id": "a239bb01",
   "metadata": {},
   "source": [
    "## -- DPLD --"
   ]
  },
  {
   "cell_type": "code",
   "execution_count": null,
   "id": "170765cc",
   "metadata": {
    "vscode": {
     "languageId": "r"
    }
   },
   "outputs": [],
   "source": [
    "#rlog transformation\n",
    "rld.dpld <- rlog( dds.dpld )\n",
    "assay(rld.dpld)[ 1:3,]\n",
    "\n",
    "options(repr.plot.width=10, repr.plot.height=10)\n",
    "\n",
    "\n",
    "#plot : before transformation (just a simple log to help visualization\n",
    "plot( log2( 1+counts(dds.dpld, normalized=TRUE)[, 1:2] ), col=\"#00000020\", pch=20, cex=0.3, main=\"non-transformed data\", cex.main=3, cex.axis=2 )\n",
    "#plot : after transformation \n",
    "plot( assay(rld.dpld)[, 3:4], col=\"#00000020\", pch=20, cex=0.3, main=\"rlog-transformed data\", cex.main=3, cex.axis=2)\n"
   ]
  },
  {
   "cell_type": "code",
   "execution_count": null,
   "id": "c2a630db",
   "metadata": {
    "vscode": {
     "languageId": "r"
    }
   },
   "outputs": [],
   "source": [
    "\n",
    "# Distance matrice : assess overall similarity between samples\n",
    "sampleDists_rld.dpld <- dist(t(assay(rld.dpld)))\n",
    "sampleDistMatrix_rld.dpld <- as.matrix( sampleDists_rld.dpld )\n",
    "rownames(sampleDistMatrix_rld.dpld) <- dds.dpld$condition\n",
    "colnames(sampleDistMatrix_rld.dpld) <- colnames(rld.dpld)  \n",
    "colours = colorRampPalette( rev(brewer.pal(9, \"Blues\")) )(255)\n",
    "pheatmap_distMatrice.dpld=pheatmap(sampleDistMatrix_rld.dpld,\n",
    "         clustering_distance_rows=sampleDists_rld.dpld,\n",
    "         clustering_distance_cols=sampleDists_rld.dpld,\n",
    "         col=colours, main=\"DPLD : Distance matrice after rlog transformation\",     \n",
    "cellheight=80, cellwidth = 80)\n",
    "\n",
    "pheatmap_distMatrice.dpld"
   ]
  },
  {
   "cell_type": "markdown",
   "id": "c108e747",
   "metadata": {},
   "source": [
    "# 6- Running DESeq2"
   ]
  },
  {
   "cell_type": "markdown",
   "id": "bf1e6fea",
   "metadata": {},
   "source": [
    "## -- WT --"
   ]
  },
  {
   "cell_type": "code",
   "execution_count": null,
   "id": "60b6037a",
   "metadata": {
    "vscode": {
     "languageId": "r"
    }
   },
   "outputs": [],
   "source": [
    "dds.g080 <- DESeq(dds.g080)\n",
    "res.g080 <- results(dds.g080, alpha=0.05, contrast=c(\"condition\", \"synap\",\"input\"), pAdjustMethod=\"BH\")\n",
    "res.g080\n",
    "summary(res.g080)"
   ]
  },
  {
   "cell_type": "code",
   "execution_count": null,
   "id": "0030e662",
   "metadata": {
    "vscode": {
     "languageId": "r"
    }
   },
   "outputs": [],
   "source": [
    "#converting to dataframe\n",
    "results.g080 = as.data.frame(res.g080)"
   ]
  },
  {
   "cell_type": "markdown",
   "id": "4018999e",
   "metadata": {},
   "source": [
    "## -- DPLD --"
   ]
  },
  {
   "cell_type": "code",
   "execution_count": null,
   "id": "61eb58a1",
   "metadata": {
    "vscode": {
     "languageId": "r"
    }
   },
   "outputs": [],
   "source": [
    "dds.dpld <- DESeq(dds.dpld)\n",
    "res.dpld <- results(dds.dpld, alpha=0.05, contrast=c(\"condition\", \"synap\",\"input\"), pAdjustMethod=\"BH\")\n",
    "res.dpld\n",
    "summary(res.dpld)"
   ]
  },
  {
   "cell_type": "code",
   "execution_count": null,
   "id": "cc6aa465",
   "metadata": {
    "vscode": {
     "languageId": "r"
    }
   },
   "outputs": [],
   "source": [
    "#converting to dataframe\n",
    "results.dpld = as.data.frame(res.dpld)"
   ]
  },
  {
   "cell_type": "markdown",
   "id": "6c17237a",
   "metadata": {},
   "source": [
    "# 7- Data analysis"
   ]
  },
  {
   "cell_type": "markdown",
   "id": "4a07d6bd",
   "metadata": {},
   "source": [
    "## -- WT --"
   ]
  },
  {
   "cell_type": "markdown",
   "id": "422fb6d3",
   "metadata": {},
   "source": [
    "### plot 2 : VolcanoPlot"
   ]
  },
  {
   "cell_type": "code",
   "execution_count": null,
   "id": "9b0c3dda",
   "metadata": {
    "vscode": {
     "languageId": "r"
    }
   },
   "outputs": [],
   "source": [
    "#let's display and annotate genes that have significant LFC greater or equal to +0.85 / lower or equal to -0.85.\n",
    "VolPlot.g080 = results.g080 %>% \n",
    "  mutate(\n",
    "    Expression = case_when(log2FoldChange >= 0.85 & padj < 0.05 ~ \"Up-regulated in synaptosome\",\n",
    "                           log2FoldChange <= -0.85 & padj < 0.05 ~ \"Up-regulated in other fractions\",\n",
    "                           TRUE ~ \"Unchanged\")\n",
    "    )\n"
   ]
  },
  {
   "cell_type": "code",
   "execution_count": null,
   "id": "978ad2d3",
   "metadata": {
    "vscode": {
     "languageId": "r"
    }
   },
   "outputs": [],
   "source": [
    "# adding ENSEMBL gene names to the table\n",
    "mapping_geneNames <-  getBM(attributes=c(\"ensembl_gene_id\",\"external_gene_name\", \"transcript_biotype\"), mart=mart, values=VolPlot.g080, uniqueRows=TRUE, bmHeader = T)\n",
    "VolPlot.g080 = merge(VolPlot.g080,mapping_geneNames, by.x='row.names', by.y='Gene stable ID', all.x=TRUE, all.y=FALSE)\n",
    "rownames(VolPlot.g080)=VolPlot.g080$Row.names\n",
    "VolPlot.g080$Row.names=NULL\n",
    "head(VolPlot.g080)"
   ]
  },
  {
   "cell_type": "code",
   "execution_count": null,
   "id": "0606733a",
   "metadata": {
    "vscode": {
     "languageId": "r"
    }
   },
   "outputs": [],
   "source": [
    "# genes with significant LFC >= 0.85 are enriched in fractions enriched in synaptosomes.\n",
    "# genes with significalt LFC <= -0.85 are enriched in the input franctions\n",
    "top <- 20\n",
    "top_genes <- bind_rows(\n",
    "  VolPlot.g080 %>% \n",
    "    filter(Expression == 'Up-regulated in synaptosome') %>% \n",
    "    arrange(padj, desc(abs(log2FoldChange))) %>% \n",
    "    head(top),\n",
    "  VolPlot.g080 %>% \n",
    "    filter(Expression == 'Up-regulated in other fractions') %>% \n",
    "    arrange(padj, desc(abs(log2FoldChange))) %>% \n",
    "    head(top)\n",
    ")"
   ]
  },
  {
   "cell_type": "code",
   "execution_count": null,
   "id": "2e93c2c1",
   "metadata": {
    "vscode": {
     "languageId": "r"
    }
   },
   "outputs": [],
   "source": [
    "options(repr.plot.width=15, repr.plot.height=15)\n",
    "VolcanoPlot.g080=ggplot(VolPlot.g080, aes(log2FoldChange, -log(padj,10))) +\n",
    "  geom_point(aes(color = Expression), size = 5) +\n",
    "  scale_color_manual(values = c(\"gray50\",\"dodgerblue3\",  \"firebrick3\")) +\n",
    "  guides(colour = guide_legend(override.aes = list(size=20)))+\n",
    "  geom_label_repel(data = top_genes,\n",
    "                   mapping = aes(log2FoldChange, -log(padj,10), label = `Gene name`),\n",
    "                   size = 5, face='bold')+\n",
    "  theme_minimal()+\n",
    "  theme(axis.text.x = element_text(angle=10, size = 10, face='bold'),\n",
    "          axis.text.y = element_text(size = 10, face='bold'),\n",
    "        axis.title = element_text(size =10, face='bold'),\n",
    "         plot.title= element_text(hjust = 0.5, size = 20, face='bold'),\n",
    "        legend.text = element_text(size = 20, face='bold'),\n",
    "        legend.title = element_text(size = 20, face='bold'),\n",
    "        legend.key.size = unit(3,\"line\"),\n",
    "    legend.position = c(.1, .95),\n",
    "    legend.justification = c(\"left\", \"top\"),\n",
    "    legend.box.just = \"left\",legend.margin = margin(3, 3, 3, 3))\n",
    "VolcanoPlot.g080"
   ]
  },
  {
   "cell_type": "markdown",
   "id": "d58ba1fa",
   "metadata": {},
   "source": [
    "### plot 3 : MAplot"
   ]
  },
  {
   "cell_type": "code",
   "execution_count": null,
   "id": "1171063e",
   "metadata": {
    "vscode": {
     "languageId": "r"
    }
   },
   "outputs": [],
   "source": [
    "options(repr.plot.width=15, repr.plot.height=15)\n",
    "\n",
    "res_up <- results.g080 %>% \n",
    "             filter(log2FoldChange >= 0.85 & padj<0.05)\n",
    "\n",
    "res_down <- results.g080 %>% \n",
    "             filter(log2FoldChange <= -0.85 & padj<0.05)\n",
    "\n",
    "maplot_nolabel1 <- ggplot(results.g080, aes(log2(baseMean), log2FoldChange)) + \n",
    "        geom_point(alpha=0.3) +\n",
    "        geom_point(data=res_up,\n",
    "            aes(log2(baseMean), log2FoldChange),color=\"red2\", cex=1.8)+\n",
    "        geom_point(data=res_down,\n",
    "            aes(log2(baseMean), log2FoldChange),color=\"cornflowerblue\", cex=1.8) + \n",
    "        geom_hline(yintercept=0.85, linetype=\"dashed\", color = \"red\")+ \n",
    "        geom_hline(yintercept=-0.85, linetype=\"dashed\", color = \"red\")+\n",
    "        ggtitle(\"G080 MAplot : synaptosome vs input\")+\n",
    "        theme(plot.title = element_text(color = \"black\", \n",
    "                                    size = 20,\n",
    "                                    face = 2,\n",
    "                                     hjust=0.5))+ \n",
    "        annotate(\"text\", x = c(15,15), y = c(4,-4), \n",
    "        label = c(dim(res_up)[1], dim(res_down)[1]) , color=c(\"red2\",\"cornflowerblue\"), \n",
    "        size=7 , angle=0, fontface=\"bold\") + theme_minimal()+\n",
    "  scale_y_continuous(breaks = c(-3, -2, -1, 0, 1, 2, 3, 4, 5, 6))\n",
    "\n",
    "maplot_nolabel1"
   ]
  },
  {
   "cell_type": "markdown",
   "id": "2e254d94",
   "metadata": {},
   "source": [
    "## -- DPLD --"
   ]
  },
  {
   "cell_type": "markdown",
   "id": "86193f90",
   "metadata": {},
   "source": [
    "### plot 2 : VolcanoPlot"
   ]
  },
  {
   "cell_type": "code",
   "execution_count": null,
   "id": "c1efa189",
   "metadata": {
    "vscode": {
     "languageId": "r"
    }
   },
   "outputs": [],
   "source": [
    "#let's display and annotate genes that have significant LFC greater or equal to +0.85 / lower or equal to -0.85.\n",
    "VolPlot.dpld = results.dpld %>% \n",
    "  mutate(\n",
    "    Expression = case_when(log2FoldChange >= 0.85 & padj < 0.05 ~ \"Up-regulated in synaptosome\",\n",
    "                           log2FoldChange <= -0.85 & padj < 0.05 ~ \"Up-regulated in other fractions\",\n",
    "                           TRUE ~ \"Unchanged\")\n",
    "    )\n"
   ]
  },
  {
   "cell_type": "code",
   "execution_count": null,
   "id": "80787ed9",
   "metadata": {
    "vscode": {
     "languageId": "r"
    }
   },
   "outputs": [],
   "source": [
    "# adding ENSEMBL gene names to the table\n",
    "mapping_geneNames <-  getBM(attributes=c(\"ensembl_gene_id\",\"external_gene_name\", \"transcript_biotype\"), mart=mart, values=VolPlot.dpld, uniqueRows=TRUE, bmHeader = T)\n",
    "VolPlot.dpld = merge(VolPlot.dpld,mapping_geneNames, by.x='row.names', by.y='Gene stable ID', all.x=TRUE, all.y=FALSE)\n",
    "rownames(VolPlot.dpld)=VolPlot.dpld$Row.names\n",
    "VolPlot.dpld$Row.names=NULL\n",
    "head(VolPlot.dpld)"
   ]
  },
  {
   "cell_type": "code",
   "execution_count": null,
   "id": "07eeb9fd",
   "metadata": {
    "vscode": {
     "languageId": "r"
    }
   },
   "outputs": [],
   "source": [
    "# genes with significant LFC >= 0.85 are enriched in fractions enriched in synaptosomes.\n",
    "# genes with significalt LFC <= -0.85 are enriched in the input franctions\n",
    "top <- 20\n",
    "top_genes <- bind_rows(\n",
    "  VolPlot.dpld %>% \n",
    "    filter(Expression == 'Up-regulated in synaptosome') %>% \n",
    "    arrange(padj, desc(abs(log2FoldChange))) %>% \n",
    "    head(top),\n",
    "  VolPlot.dpld %>% \n",
    "    filter(Expression == 'Up-regulated in other fractions') %>% \n",
    "    arrange(padj, desc(abs(log2FoldChange))) %>% \n",
    "    head(top)\n",
    ")"
   ]
  },
  {
   "cell_type": "code",
   "execution_count": null,
   "id": "8e421696",
   "metadata": {
    "vscode": {
     "languageId": "r"
    }
   },
   "outputs": [],
   "source": [
    "options(repr.plot.width=15, repr.plot.height=15)\n",
    "VolcanoPlot.dpld=ggplot(VolPlot.dpld, aes(log2FoldChange, -log(padj,10))) +\n",
    "  geom_point(aes(color = Expression), size = 5) +\n",
    "  scale_color_manual(values = c(\"gray50\",\"dodgerblue3\",  \"firebrick3\")) +\n",
    "  guides(colour = guide_legend(override.aes = list(size=20)))+\n",
    "  geom_label_repel(data = top_genes,\n",
    "                   mapping = aes(log2FoldChange, -log(padj,10), label = `Gene name`),\n",
    "                   size = 5, face='bold')+\n",
    "  theme_minimal()+\n",
    "  theme(axis.text.x = element_text(angle=10, size = 10, face='bold'),\n",
    "          axis.text.y = element_text(size = 10, face='bold'),\n",
    "        axis.title = element_text(size =10, face='bold'),\n",
    "         plot.title= element_text(hjust = 0.5, size = 20, face='bold'),\n",
    "        legend.text = element_text(size = 20, face='bold'),\n",
    "        legend.title = element_text(size = 20, face='bold'),\n",
    "        legend.key.size = unit(3,\"line\"),\n",
    "    legend.position = c(.1, .95),\n",
    "    legend.justification = c(\"left\", \"top\"),\n",
    "    legend.box.just = \"left\",legend.margin = margin(3, 3, 3, 3))\n",
    "VolcanoPlot.dpld"
   ]
  },
  {
   "cell_type": "markdown",
   "id": "e2faa453",
   "metadata": {},
   "source": [
    "### plot 3 : MAplot"
   ]
  },
  {
   "cell_type": "code",
   "execution_count": null,
   "id": "f6f3585d",
   "metadata": {
    "vscode": {
     "languageId": "r"
    }
   },
   "outputs": [],
   "source": [
    "options(repr.plot.width=15, repr.plot.height=15)\n",
    "\n",
    "res_up <- results.dpld %>% \n",
    "             filter(log2FoldChange >= 0.85 & padj<0.05)\n",
    "\n",
    "res_down <- results.dpld %>% \n",
    "             filter(log2FoldChange <= -0.85 & padj<0.05)\n",
    "\n",
    "maplot.dPLD <- ggplot(results.dpld, aes(log2(baseMean), log2FoldChange)) + \n",
    "        geom_point(alpha=0.3) +\n",
    "        geom_point(data=res_up,\n",
    "            aes(log2(baseMean), log2FoldChange),color=\"red2\", cex=1.8)+\n",
    "        geom_point(data=res_down,\n",
    "            aes(log2(baseMean), log2FoldChange),color=\"cornflowerblue\", cex=1.8) + \n",
    "        geom_hline(yintercept=0.85, linetype=\"dashed\", color = \"red\")+ \n",
    "        geom_hline(yintercept=-0.85, linetype=\"dashed\", color = \"red\")+\n",
    "        ggtitle(\"DPLD MAplot : synaptosome vs input\")+\n",
    "        theme(plot.title = element_text(color = \"black\", \n",
    "                                    size = 20,\n",
    "                                    face = 2,\n",
    "                                     hjust=0.5))+ \n",
    "        annotate(\"text\", x = c(15,15), y = c(4,-4), \n",
    "        label = c(dim(res_up)[1], dim(res_down)[1]) , color=c(\"red2\",\"cornflowerblue\"), \n",
    "        size=7 , angle=0, fontface=\"bold\") + theme_minimal()+\n",
    "  scale_y_continuous(breaks = c(-3, -2, -1, 0, 1, 2, 3, 4, 5, 6))\n",
    "\n",
    "maplot.dPLD"
   ]
  }
 ],
 "metadata": {
  "kernelspec": {
   "display_name": "R",
   "language": "R",
   "name": "ir"
  },
  "language_info": {
   "codemirror_mode": "r",
   "file_extension": ".r",
   "mimetype": "text/x-r-source",
   "name": "R",
   "pygments_lexer": "r",
   "version": "4.2.2"
  }
 },
 "nbformat": 4,
 "nbformat_minor": 5
}
