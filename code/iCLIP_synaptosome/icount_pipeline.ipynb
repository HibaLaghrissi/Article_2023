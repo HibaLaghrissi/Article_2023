{
 "cells": [
  {
   "cell_type": "markdown",
   "metadata": {},
   "source": [
    "For documentation and installation, please visit :\n",
    "- https://icount.readthedocs.io/en/latest/index.html\n",
    "- https://github.com/tomazc/iCount"
   ]
  },
  {
   "cell_type": "code",
   "execution_count": null,
   "metadata": {},
   "outputs": [],
   "source": [
    "conda activate icount"
   ]
  },
  {
   "cell_type": "markdown",
   "metadata": {},
   "source": [
    "# icount segment"
   ]
  },
  {
   "cell_type": "code",
   "execution_count": null,
   "metadata": {
    "vscode": {
     "languageId": "shellscript"
    }
   },
   "outputs": [],
   "source": [
    "annotation_file='../../genome/Drosophila_melanogaster.BDGP6.32.107.gtf'\n",
    "fai_file='../../genome/Drosophila_melanogaster.BDGP6.32.dna.toplevel.fa.fai'\n",
    "iCount segment ${annotation_file} dm6seg2.gtf ${fai_file}"
   ]
  },
  {
   "cell_type": "markdown",
   "metadata": {},
   "source": [
    "# icount xlsites"
   ]
  },
  {
   "cell_type": "code",
   "execution_count": null,
   "metadata": {
    "vscode": {
     "languageId": "shellscript"
    }
   },
   "outputs": [],
   "source": [
    "# Quantifying cross-linked sites\n",
    "\n",
    "input1=PATH/TO/REPLICATE1/BAM\n",
    "input2=PATH/TO/REPLICATE2/BAM\n",
    "\n",
    "iCount xlsites $input2 \\\n",
    "           replicat1_cDNA_unique.bed  replicate1_cDNA_multiple.bed replicate1_cDNA_skipped.bam \\\n",
    "            --group_by start --quant cDNA\n",
    "\n",
    "iCount xlsites $input2 \\\n",
    "           replicate2_cDNA_unique.bed  replicate2_cDNA_multiple.bed replicate2_cDNA_skipped.bam \\\n",
    "            --group_by start --quant cDNA"
   ]
  },
  {
   "cell_type": "markdown",
   "metadata": {},
   "source": [
    "# group"
   ]
  },
  {
   "cell_type": "code",
   "execution_count": null,
   "metadata": {
    "vscode": {
     "languageId": "shellscript"
    }
   },
   "outputs": [],
   "source": [
    "#We group unique xlsites counted for each replicate (same condition)\n",
    "\n",
    "sample1='replicate1'\n",
    "sample2='replicate2'\n",
    "\n",
    "iCount group group_cDNA_unique.bed ${sample1}_cDNA_unique.bed ${sample2}_cDNA_unique.bed"
   ]
  },
  {
   "cell_type": "markdown",
   "metadata": {},
   "source": [
    "# icount peaks"
   ]
  },
  {
   "cell_type": "code",
   "execution_count": null,
   "metadata": {
    "vscode": {
     "languageId": "shellscript"
    }
   },
   "outputs": [],
   "source": [
    "#Peak calling\n",
    "\n",
    "#regions.gtf: generated with iCount segment\n",
    "#group_cDNA_unique.bed: generated with iCount group\n",
    "\n",
    "iCount peaks regions.gtf  group_cDNA_unique.bed \\\n",
    "            group_regions_peaks_unique.bed \\\n",
    "            --scores group_regions_scores_unique.tsv \n",
    "   "
   ]
  },
  {
   "cell_type": "markdown",
   "metadata": {},
   "source": [
    "# icount annotate"
   ]
  },
  {
   "cell_type": "code",
   "execution_count": null,
   "metadata": {
    "vscode": {
     "languageId": "shellscript"
    }
   },
   "outputs": [],
   "source": [
    "#annotating the output of icount peaks to get more infos about the genes\n",
    "\n",
    "#dm6seg.gtf: generated with iCount segment\n",
    "\n",
    "iCount annotate --subtype gene_id dm6seg.gtf group_regions_peaks_unique.bed  \\\n",
    "group_peaks_genes_annotated_unique_sites_genes.tab"
   ]
  }
 ],
 "metadata": {
  "language_info": {
   "name": "python"
  }
 },
 "nbformat": 4,
 "nbformat_minor": 2
}
