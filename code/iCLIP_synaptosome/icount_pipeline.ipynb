{
 "cells": [
  {
   "cell_type": "code",
   "execution_count": null,
   "metadata": {},
   "outputs": [],
   "source": [
    "conda activate icount"
   ]
  },
  {
   "cell_type": "markdown",
   "metadata": {},
   "source": [
    "# icount segment"
   ]
  },
  {
   "cell_type": "code",
   "execution_count": null,
   "metadata": {
    "vscode": {
     "languageId": "shellscript"
    }
   },
   "outputs": [
    {
     "name": "stdout",
     "output_type": "stream",
     "text": [
      "(jupyter_env) \n",
      "(icount) \n",
      "Executing the following command: iCount segment ../../genome/Drosophila_melanogaster.BDGP6.32.107.gtf dm6seg2.gtf ../../genome/Drosophila_melanogaster.BDGP6.32.dna_sm.toplevel.fa.fai\n",
      "Input parameters for function 'get_segments' in iCount.genomes.segment\n",
      "    annotation: ../../genome/Drosophila_melanogaster.BDGP6.32.107.gtf\n",
      "    segmentation: dm6seg2.gtf\n",
      "    fai: ../../genome/Drosophila_melanogaster.BDGP6.32.dna_sm.toplevel.fa.fai\n",
      "    report_progress: False\n",
      "Calculating intergenic intervals...\n",
      "Segmentation stored in dm6seg2.gtf\n",
      "Making also gene level segmentation...\n",
      "(icount) \n"
     ]
    },
    {
     "ename": "",
     "evalue": "1",
     "output_type": "error",
     "traceback": [
      "1"
     ]
    }
   ],
   "source": [
    "annotation_file='../../genome/Drosophila_melanogaster.BDGP6.32.107.gtf'\n",
    "fai_file='../../genome/Drosophila_melanogaster.BDGP6.32.dna.toplevel.fa.fai'\n",
    "iCount segment ${annotation_file} dm6seg2.gtf ${fai_file}"
   ]
  },
  {
   "cell_type": "markdown",
   "metadata": {},
   "source": [
    "# icount xlsites"
   ]
  },
  {
   "cell_type": "code",
   "execution_count": null,
   "metadata": {
    "vscode": {
     "languageId": "shellscript"
    }
   },
   "outputs": [],
   "source": [
    "# Quantifying cross-linked sites\n",
    "\n",
    "input1=PATH/TO/REPLICATE1/BAM\n",
    "input2=PATH/TO/REPLICATE2/BAM\n",
    "\n",
    "iCount xlsites $input2 \\\n",
    "           replicat1_cDNA_unique.bed  replicate1_cDNA_multiple.bed replicate1_cDNA_skipped.bam \\\n",
    "            --group_by start --quant cDNA\n",
    "\n",
    "iCount xlsites $input2 \\\n",
    "           replicate2_cDNA_unique.bed  replicate2_cDNA_multiple.bed replicate2_cDNA_skipped.bam \\\n",
    "            --group_by start --quant cDNA"
   ]
  },
  {
   "cell_type": "markdown",
   "metadata": {},
   "source": [
    "# group"
   ]
  },
  {
   "cell_type": "code",
   "execution_count": null,
   "metadata": {
    "vscode": {
     "languageId": "shellscript"
    }
   },
   "outputs": [],
   "source": [
    "#We group unique xlsites counted for each replicate (same condition)\n",
    "\n",
    "sample1='replicate1'\n",
    "sample2='replicate2'\n",
    "\n",
    "iCount group group_cDNA_unique.bed ${sample1}_cDNA_unique.bed ${sample2}_cDNA_unique.bed"
   ]
  },
  {
   "cell_type": "markdown",
   "metadata": {},
   "source": [
    "# icount peaks"
   ]
  },
  {
   "cell_type": "code",
   "execution_count": null,
   "metadata": {
    "vscode": {
     "languageId": "shellscript"
    }
   },
   "outputs": [
    {
     "name": "stdout",
     "output_type": "stream",
     "text": [
      "(jupyter_env) \n",
      "(icount) \n",
      "(icount) \n",
      "(icount) \n",
      "(icount) \n",
      "(icount) \n",
      "Executing the following command: iCount peaks ../../icount_genome/regions.gtf ../../Analysis/clip-seq/G080/icount_output/group/group_cDNA_unique.bed ../../Analysis/clip-seq/G080/icount_output/group/group_regions_peaks_unique.bed --scores Analysis/clip-seq/G080/icount_output/group/group_regions_scores_unique.tsv\n",
      "Input parameters for function 'run' in iCount.analysis.peaks\n",
      "    annotation: ../../icount_genome/regions.gtf\n",
      "    sites: ../../Analysis/clip-seq/G080/icount_output/group/group_cDNA_unique.bed\n",
      "    peaks: ../../Analysis/clip-seq/G080/icount_output/group/group_regions_peaks_unique.bed\n",
      "    scores: Analysis/clip-seq/G080/icount_output/group/group_regions_scores_unique.tsv\n",
      "    features: None\n",
      "    group_by: gene_id\n",
      "    merge_features: False\n",
      "    half_window: 3\n",
      "    fdr: 0.05\n",
      "    perms: 100\n",
      "    rnd_seed: 42\n",
      "    report_progress: False\n",
      "Loading annotation file...\n",
      "0 out of 181899 annotation records will be used (181899 skipped).\n",
      "Loading cross-links file...\n",
      "Calculating intersection between annotation and cross-link file...\n",
      "Processing intersections...\n",
      "Determining cross-links not intersecting with annotation...\n",
      "Peaks calculation finished. Writing results to files...\n",
      "BED6 file with significant peaks saved to: ../../Analysis/clip-seq/G080/icount_output/group/group_regions_peaks_unique.bed\n",
      "[FileNotFoundError] 2\n",
      "  File \"/workspace/hlaghrissi/iCount/iCount/cli.py\", line 444, in main\n",
      "    result_object = func(**args)\n",
      "\n",
      "  File \"/workspace/hlaghrissi/iCount/iCount/analysis/peaks.py\", line 576, in run\n",
      "    with iCount.files.gz_open(scores, 'wt') as scores:\n",
      "\n",
      "  File \"/workspace/hlaghrissi/iCount/iCount/files/__init__.py\", line 82, in gz_open\n",
      "    return open(fname, mode)\n",
      "\n",
      "(icount) \n"
     ]
    },
    {
     "ename": "",
     "evalue": "1",
     "output_type": "error",
     "traceback": [
      "1"
     ]
    }
   ],
   "source": [
    "#Peak calling\n",
    "\n",
    "#regions.gtf: generated with iCount segment\n",
    "#group_cDNA_unique.bed: generated with iCount group\n",
    "\n",
    "iCount peaks regions.gtf  group_cDNA_unique.bed \\\n",
    "            group_regions_peaks_unique.bed \\\n",
    "            --scores group_regions_scores_unique.tsv \n",
    "   "
   ]
  },
  {
   "cell_type": "markdown",
   "metadata": {},
   "source": [
    "# icount annotate"
   ]
  },
  {
   "cell_type": "code",
   "execution_count": null,
   "metadata": {
    "vscode": {
     "languageId": "shellscript"
    }
   },
   "outputs": [],
   "source": [
    "#annotating the output of icount peaks to get more infos about the genes\n",
    "\n",
    "#dm6seg.gtf: generated with iCount segment\n",
    "\n",
    "iCount annotate --subtype gene_id dm6seg.gtf group_regions_peaks_unique.bed  \\\n",
    "group_peaks_genes_annotated_unique_sites_genes.tab"
   ]
  }
 ],
 "metadata": {
  "language_info": {
   "name": "python"
  }
 },
 "nbformat": 4,
 "nbformat_minor": 2
}
