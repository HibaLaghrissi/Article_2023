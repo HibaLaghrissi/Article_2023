{
 "cells": [
  {
   "cell_type": "markdown",
   "metadata": {},
   "source": [
    "## scores"
   ]
  },
  {
   "cell_type": "code",
   "execution_count": 4,
   "metadata": {
    "vscode": {
     "languageId": "r"
    }
   },
   "outputs": [],
   "source": [
    "#import icount output group_scores_unique.tsv (see icount_pipeline.ipynb)\n",
    "data1=read.delim('/workspace/hlaghrissi/Analysis/iClipSeq-nov-2019/G080/icount_output/group/group_scores_unique.tsv')\n",
    "data2=read.delim('/workspace/hlaghrissi/Analysis/iClipSeq-nov-2019/dPLD/icount_output/group/group_scores_unique.tsv')"
   ]
  },
  {
   "cell_type": "code",
   "execution_count": 5,
   "metadata": {
    "vscode": {
     "languageId": "r"
    }
   },
   "outputs": [],
   "source": [
    "data1[is.na(data1)] <- 0\n",
    "data2[is.na(data2)] <- 0"
   ]
  },
  {
   "cell_type": "code",
   "execution_count": 6,
   "metadata": {
    "vscode": {
     "languageId": "r"
    }
   },
   "outputs": [
    {
     "data": {
      "text/html": [
       "<style>\n",
       ".list-inline {list-style: none; margin:0; padding: 0}\n",
       ".list-inline>li {display: inline-block}\n",
       ".list-inline>li:not(:last-child)::after {content: \"\\00b7\"; padding: 0 .5ex}\n",
       "</style>\n",
       "<ol class=list-inline><li>1022256</li><li>8</li></ol>\n"
      ],
      "text/latex": [
       "\\begin{enumerate*}\n",
       "\\item 1022256\n",
       "\\item 8\n",
       "\\end{enumerate*}\n"
      ],
      "text/markdown": [
       "1. 1022256\n",
       "2. 8\n",
       "\n",
       "\n"
      ],
      "text/plain": [
       "[1] 1022256       8"
      ]
     },
     "metadata": {},
     "output_type": "display_data"
    },
    {
     "data": {
      "text/html": [
       "<table class=\"dataframe\">\n",
       "<caption>A data.frame: 6 × 8</caption>\n",
       "<thead>\n",
       "\t<tr><th></th><th scope=col>chrom</th><th scope=col>position</th><th scope=col>strand</th><th scope=col>name</th><th scope=col>group_id</th><th scope=col>score</th><th scope=col>score_extended</th><th scope=col>FDR</th></tr>\n",
       "\t<tr><th></th><th scope=col>&lt;chr&gt;</th><th scope=col>&lt;int&gt;</th><th scope=col>&lt;chr&gt;</th><th scope=col>&lt;chr&gt;</th><th scope=col>&lt;chr&gt;</th><th scope=col>&lt;int&gt;</th><th scope=col>&lt;chr&gt;</th><th scope=col>&lt;dbl&gt;</th></tr>\n",
       "</thead>\n",
       "<tbody>\n",
       "\t<tr><th scope=row>1</th><td>211000022278047</td><td>1914</td><td>+</td><td>not_annotated</td><td>not_annotated</td><td>1</td><td>not_calculated</td><td>1</td></tr>\n",
       "\t<tr><th scope=row>2</th><td>211000022278047</td><td>1919</td><td>+</td><td>not_annotated</td><td>not_annotated</td><td>2</td><td>not_calculated</td><td>1</td></tr>\n",
       "\t<tr><th scope=row>3</th><td>211000022278047</td><td>1928</td><td>+</td><td>not_annotated</td><td>not_annotated</td><td>1</td><td>not_calculated</td><td>1</td></tr>\n",
       "\t<tr><th scope=row>4</th><td>211000022278047</td><td>1933</td><td>+</td><td>not_annotated</td><td>not_annotated</td><td>1</td><td>not_calculated</td><td>1</td></tr>\n",
       "\t<tr><th scope=row>5</th><td>211000022278047</td><td>1943</td><td>+</td><td>not_annotated</td><td>not_annotated</td><td>2</td><td>not_calculated</td><td>1</td></tr>\n",
       "\t<tr><th scope=row>6</th><td>211000022278047</td><td>1948</td><td>+</td><td>not_annotated</td><td>not_annotated</td><td>1</td><td>not_calculated</td><td>1</td></tr>\n",
       "</tbody>\n",
       "</table>\n"
      ],
      "text/latex": [
       "A data.frame: 6 × 8\n",
       "\\begin{tabular}{r|llllllll}\n",
       "  & chrom & position & strand & name & group\\_id & score & score\\_extended & FDR\\\\\n",
       "  & <chr> & <int> & <chr> & <chr> & <chr> & <int> & <chr> & <dbl>\\\\\n",
       "\\hline\n",
       "\t1 & 211000022278047 & 1914 & + & not\\_annotated & not\\_annotated & 1 & not\\_calculated & 1\\\\\n",
       "\t2 & 211000022278047 & 1919 & + & not\\_annotated & not\\_annotated & 2 & not\\_calculated & 1\\\\\n",
       "\t3 & 211000022278047 & 1928 & + & not\\_annotated & not\\_annotated & 1 & not\\_calculated & 1\\\\\n",
       "\t4 & 211000022278047 & 1933 & + & not\\_annotated & not\\_annotated & 1 & not\\_calculated & 1\\\\\n",
       "\t5 & 211000022278047 & 1943 & + & not\\_annotated & not\\_annotated & 2 & not\\_calculated & 1\\\\\n",
       "\t6 & 211000022278047 & 1948 & + & not\\_annotated & not\\_annotated & 1 & not\\_calculated & 1\\\\\n",
       "\\end{tabular}\n"
      ],
      "text/markdown": [
       "\n",
       "A data.frame: 6 × 8\n",
       "\n",
       "| <!--/--> | chrom &lt;chr&gt; | position &lt;int&gt; | strand &lt;chr&gt; | name &lt;chr&gt; | group_id &lt;chr&gt; | score &lt;int&gt; | score_extended &lt;chr&gt; | FDR &lt;dbl&gt; |\n",
       "|---|---|---|---|---|---|---|---|---|\n",
       "| 1 | 211000022278047 | 1914 | + | not_annotated | not_annotated | 1 | not_calculated | 1 |\n",
       "| 2 | 211000022278047 | 1919 | + | not_annotated | not_annotated | 2 | not_calculated | 1 |\n",
       "| 3 | 211000022278047 | 1928 | + | not_annotated | not_annotated | 1 | not_calculated | 1 |\n",
       "| 4 | 211000022278047 | 1933 | + | not_annotated | not_annotated | 1 | not_calculated | 1 |\n",
       "| 5 | 211000022278047 | 1943 | + | not_annotated | not_annotated | 2 | not_calculated | 1 |\n",
       "| 6 | 211000022278047 | 1948 | + | not_annotated | not_annotated | 1 | not_calculated | 1 |\n",
       "\n"
      ],
      "text/plain": [
       "  chrom           position strand name          group_id      score\n",
       "1 211000022278047 1914     +      not_annotated not_annotated 1    \n",
       "2 211000022278047 1919     +      not_annotated not_annotated 2    \n",
       "3 211000022278047 1928     +      not_annotated not_annotated 1    \n",
       "4 211000022278047 1933     +      not_annotated not_annotated 1    \n",
       "5 211000022278047 1943     +      not_annotated not_annotated 2    \n",
       "6 211000022278047 1948     +      not_annotated not_annotated 1    \n",
       "  score_extended FDR\n",
       "1 not_calculated 1  \n",
       "2 not_calculated 1  \n",
       "3 not_calculated 1  \n",
       "4 not_calculated 1  \n",
       "5 not_calculated 1  \n",
       "6 not_calculated 1  "
      ]
     },
     "metadata": {},
     "output_type": "display_data"
    }
   ],
   "source": [
    "dim(data1)\n",
    "head(data1)"
   ]
  },
  {
   "cell_type": "code",
   "execution_count": 7,
   "metadata": {
    "vscode": {
     "languageId": "r"
    }
   },
   "outputs": [
    {
     "data": {
      "text/html": [
       "<style>\n",
       ".list-inline {list-style: none; margin:0; padding: 0}\n",
       ".list-inline>li {display: inline-block}\n",
       ".list-inline>li:not(:last-child)::after {content: \"\\00b7\"; padding: 0 .5ex}\n",
       "</style>\n",
       "<ol class=list-inline><li>316214</li><li>8</li></ol>\n"
      ],
      "text/latex": [
       "\\begin{enumerate*}\n",
       "\\item 316214\n",
       "\\item 8\n",
       "\\end{enumerate*}\n"
      ],
      "text/markdown": [
       "1. 316214\n",
       "2. 8\n",
       "\n",
       "\n"
      ],
      "text/plain": [
       "[1] 316214      8"
      ]
     },
     "metadata": {},
     "output_type": "display_data"
    },
    {
     "data": {
      "text/html": [
       "<style>\n",
       ".list-inline {list-style: none; margin:0; padding: 0}\n",
       ".list-inline>li {display: inline-block}\n",
       ".list-inline>li:not(:last-child)::after {content: \"\\00b7\"; padding: 0 .5ex}\n",
       "</style>\n",
       "<ol class=list-inline><li>706042</li><li>8</li></ol>\n"
      ],
      "text/latex": [
       "\\begin{enumerate*}\n",
       "\\item 706042\n",
       "\\item 8\n",
       "\\end{enumerate*}\n"
      ],
      "text/markdown": [
       "1. 706042\n",
       "2. 8\n",
       "\n",
       "\n"
      ],
      "text/plain": [
       "[1] 706042      8"
      ]
     },
     "metadata": {},
     "output_type": "display_data"
    }
   ],
   "source": [
    "sigPeaks1=data1[data1$FDR < 0.05, ] \n",
    "unsigPeaks1=data1[data1$FDR >= 0.05, ] \n",
    "dim(sigPeaks1)\n",
    "dim(unsigPeaks1)"
   ]
  },
  {
   "cell_type": "code",
   "execution_count": 8,
   "metadata": {
    "vscode": {
     "languageId": "r"
    }
   },
   "outputs": [
    {
     "data": {
      "text/html": [
       "<style>\n",
       ".list-inline {list-style: none; margin:0; padding: 0}\n",
       ".list-inline>li {display: inline-block}\n",
       ".list-inline>li:not(:last-child)::after {content: \"\\00b7\"; padding: 0 .5ex}\n",
       "</style>\n",
       "<ol class=list-inline><li>521145</li><li>8</li></ol>\n"
      ],
      "text/latex": [
       "\\begin{enumerate*}\n",
       "\\item 521145\n",
       "\\item 8\n",
       "\\end{enumerate*}\n"
      ],
      "text/markdown": [
       "1. 521145\n",
       "2. 8\n",
       "\n",
       "\n"
      ],
      "text/plain": [
       "[1] 521145      8"
      ]
     },
     "metadata": {},
     "output_type": "display_data"
    },
    {
     "data": {
      "text/html": [
       "<style>\n",
       ".list-inline {list-style: none; margin:0; padding: 0}\n",
       ".list-inline>li {display: inline-block}\n",
       ".list-inline>li:not(:last-child)::after {content: \"\\00b7\"; padding: 0 .5ex}\n",
       "</style>\n",
       "<ol class=list-inline><li>1326397</li><li>8</li></ol>\n"
      ],
      "text/latex": [
       "\\begin{enumerate*}\n",
       "\\item 1326397\n",
       "\\item 8\n",
       "\\end{enumerate*}\n"
      ],
      "text/markdown": [
       "1. 1326397\n",
       "2. 8\n",
       "\n",
       "\n"
      ],
      "text/plain": [
       "[1] 1326397       8"
      ]
     },
     "metadata": {},
     "output_type": "display_data"
    }
   ],
   "source": [
    "sigPeaks2=data2[data2$FDR <= 0.05, ] \n",
    "unsigPeaks2=data2[data2$FDR > 0.05, ] \n",
    "dim(sigPeaks2)\n",
    "dim(unsigPeaks2)"
   ]
  },
  {
   "cell_type": "code",
   "execution_count": 9,
   "metadata": {
    "vscode": {
     "languageId": "r"
    }
   },
   "outputs": [
    {
     "data": {
      "text/html": [
       "<table class=\"dataframe\">\n",
       "<caption>A data.frame: 6 × 8</caption>\n",
       "<thead>\n",
       "\t<tr><th></th><th scope=col>chrom</th><th scope=col>position</th><th scope=col>strand</th><th scope=col>name</th><th scope=col>group_id</th><th scope=col>score</th><th scope=col>score_extended</th><th scope=col>FDR</th></tr>\n",
       "\t<tr><th></th><th scope=col>&lt;chr&gt;</th><th scope=col>&lt;int&gt;</th><th scope=col>&lt;chr&gt;</th><th scope=col>&lt;chr&gt;</th><th scope=col>&lt;chr&gt;</th><th scope=col>&lt;int&gt;</th><th scope=col>&lt;chr&gt;</th><th scope=col>&lt;dbl&gt;</th></tr>\n",
       "</thead>\n",
       "<tbody>\n",
       "\t<tr><th scope=row>998</th><td>2L</td><td>10282</td><td>-</td><td>l(2)gl</td><td>FBgn0002121</td><td>2</td><td>4</td><td>0.00603</td></tr>\n",
       "\t<tr><th scope=row>999</th><td>2L</td><td>10283</td><td>-</td><td>l(2)gl</td><td>FBgn0002121</td><td>1</td><td>4</td><td>0.00603</td></tr>\n",
       "\t<tr><th scope=row>1000</th><td>2L</td><td>10285</td><td>-</td><td>l(2)gl</td><td>FBgn0002121</td><td>1</td><td>5</td><td>0.00000</td></tr>\n",
       "\t<tr><th scope=row>1008</th><td>2L</td><td>10368</td><td>-</td><td>l(2)gl</td><td>FBgn0002121</td><td>5</td><td>7</td><td>0.00000</td></tr>\n",
       "\t<tr><th scope=row>1009</th><td>2L</td><td>10369</td><td>-</td><td>l(2)gl</td><td>FBgn0002121</td><td>1</td><td>7</td><td>0.00000</td></tr>\n",
       "\t<tr><th scope=row>1010</th><td>2L</td><td>10370</td><td>-</td><td>l(2)gl</td><td>FBgn0002121</td><td>1</td><td>7</td><td>0.00000</td></tr>\n",
       "</tbody>\n",
       "</table>\n"
      ],
      "text/latex": [
       "A data.frame: 6 × 8\n",
       "\\begin{tabular}{r|llllllll}\n",
       "  & chrom & position & strand & name & group\\_id & score & score\\_extended & FDR\\\\\n",
       "  & <chr> & <int> & <chr> & <chr> & <chr> & <int> & <chr> & <dbl>\\\\\n",
       "\\hline\n",
       "\t998 & 2L & 10282 & - & l(2)gl & FBgn0002121 & 2 & 4 & 0.00603\\\\\n",
       "\t999 & 2L & 10283 & - & l(2)gl & FBgn0002121 & 1 & 4 & 0.00603\\\\\n",
       "\t1000 & 2L & 10285 & - & l(2)gl & FBgn0002121 & 1 & 5 & 0.00000\\\\\n",
       "\t1008 & 2L & 10368 & - & l(2)gl & FBgn0002121 & 5 & 7 & 0.00000\\\\\n",
       "\t1009 & 2L & 10369 & - & l(2)gl & FBgn0002121 & 1 & 7 & 0.00000\\\\\n",
       "\t1010 & 2L & 10370 & - & l(2)gl & FBgn0002121 & 1 & 7 & 0.00000\\\\\n",
       "\\end{tabular}\n"
      ],
      "text/markdown": [
       "\n",
       "A data.frame: 6 × 8\n",
       "\n",
       "| <!--/--> | chrom &lt;chr&gt; | position &lt;int&gt; | strand &lt;chr&gt; | name &lt;chr&gt; | group_id &lt;chr&gt; | score &lt;int&gt; | score_extended &lt;chr&gt; | FDR &lt;dbl&gt; |\n",
       "|---|---|---|---|---|---|---|---|---|\n",
       "| 998 | 2L | 10282 | - | l(2)gl | FBgn0002121 | 2 | 4 | 0.00603 |\n",
       "| 999 | 2L | 10283 | - | l(2)gl | FBgn0002121 | 1 | 4 | 0.00603 |\n",
       "| 1000 | 2L | 10285 | - | l(2)gl | FBgn0002121 | 1 | 5 | 0.00000 |\n",
       "| 1008 | 2L | 10368 | - | l(2)gl | FBgn0002121 | 5 | 7 | 0.00000 |\n",
       "| 1009 | 2L | 10369 | - | l(2)gl | FBgn0002121 | 1 | 7 | 0.00000 |\n",
       "| 1010 | 2L | 10370 | - | l(2)gl | FBgn0002121 | 1 | 7 | 0.00000 |\n",
       "\n"
      ],
      "text/plain": [
       "     chrom position strand name   group_id    score score_extended FDR    \n",
       "998  2L    10282    -      l(2)gl FBgn0002121 2     4              0.00603\n",
       "999  2L    10283    -      l(2)gl FBgn0002121 1     4              0.00603\n",
       "1000 2L    10285    -      l(2)gl FBgn0002121 1     5              0.00000\n",
       "1008 2L    10368    -      l(2)gl FBgn0002121 5     7              0.00000\n",
       "1009 2L    10369    -      l(2)gl FBgn0002121 1     7              0.00000\n",
       "1010 2L    10370    -      l(2)gl FBgn0002121 1     7              0.00000"
      ]
     },
     "metadata": {},
     "output_type": "display_data"
    },
    {
     "data": {
      "text/html": [
       "<table class=\"dataframe\">\n",
       "<caption>A data.frame: 6 × 8</caption>\n",
       "<thead>\n",
       "\t<tr><th></th><th scope=col>chrom</th><th scope=col>position</th><th scope=col>strand</th><th scope=col>name</th><th scope=col>group_id</th><th scope=col>score</th><th scope=col>score_extended</th><th scope=col>FDR</th></tr>\n",
       "\t<tr><th></th><th scope=col>&lt;chr&gt;</th><th scope=col>&lt;int&gt;</th><th scope=col>&lt;chr&gt;</th><th scope=col>&lt;chr&gt;</th><th scope=col>&lt;chr&gt;</th><th scope=col>&lt;int&gt;</th><th scope=col>&lt;chr&gt;</th><th scope=col>&lt;dbl&gt;</th></tr>\n",
       "</thead>\n",
       "<tbody>\n",
       "\t<tr><th scope=row>1602</th><td>2L</td><td>10013</td><td>-</td><td>l(2)gl</td><td>FBgn0002121</td><td>1</td><td>4</td><td>0.012649</td></tr>\n",
       "\t<tr><th scope=row>1603</th><td>2L</td><td>10014</td><td>-</td><td>l(2)gl</td><td>FBgn0002121</td><td>1</td><td>4</td><td>0.012649</td></tr>\n",
       "\t<tr><th scope=row>1604</th><td>2L</td><td>10015</td><td>-</td><td>l(2)gl</td><td>FBgn0002121</td><td>2</td><td>4</td><td>0.012649</td></tr>\n",
       "\t<tr><th scope=row>1605</th><td>2L</td><td>10023</td><td>-</td><td>l(2)gl</td><td>FBgn0002121</td><td>1</td><td>4</td><td>0.012649</td></tr>\n",
       "\t<tr><th scope=row>1606</th><td>2L</td><td>10024</td><td>-</td><td>l(2)gl</td><td>FBgn0002121</td><td>2</td><td>4</td><td>0.012649</td></tr>\n",
       "\t<tr><th scope=row>1607</th><td>2L</td><td>10025</td><td>-</td><td>l(2)gl</td><td>FBgn0002121</td><td>1</td><td>4</td><td>0.012649</td></tr>\n",
       "</tbody>\n",
       "</table>\n"
      ],
      "text/latex": [
       "A data.frame: 6 × 8\n",
       "\\begin{tabular}{r|llllllll}\n",
       "  & chrom & position & strand & name & group\\_id & score & score\\_extended & FDR\\\\\n",
       "  & <chr> & <int> & <chr> & <chr> & <chr> & <int> & <chr> & <dbl>\\\\\n",
       "\\hline\n",
       "\t1602 & 2L & 10013 & - & l(2)gl & FBgn0002121 & 1 & 4 & 0.012649\\\\\n",
       "\t1603 & 2L & 10014 & - & l(2)gl & FBgn0002121 & 1 & 4 & 0.012649\\\\\n",
       "\t1604 & 2L & 10015 & - & l(2)gl & FBgn0002121 & 2 & 4 & 0.012649\\\\\n",
       "\t1605 & 2L & 10023 & - & l(2)gl & FBgn0002121 & 1 & 4 & 0.012649\\\\\n",
       "\t1606 & 2L & 10024 & - & l(2)gl & FBgn0002121 & 2 & 4 & 0.012649\\\\\n",
       "\t1607 & 2L & 10025 & - & l(2)gl & FBgn0002121 & 1 & 4 & 0.012649\\\\\n",
       "\\end{tabular}\n"
      ],
      "text/markdown": [
       "\n",
       "A data.frame: 6 × 8\n",
       "\n",
       "| <!--/--> | chrom &lt;chr&gt; | position &lt;int&gt; | strand &lt;chr&gt; | name &lt;chr&gt; | group_id &lt;chr&gt; | score &lt;int&gt; | score_extended &lt;chr&gt; | FDR &lt;dbl&gt; |\n",
       "|---|---|---|---|---|---|---|---|---|\n",
       "| 1602 | 2L | 10013 | - | l(2)gl | FBgn0002121 | 1 | 4 | 0.012649 |\n",
       "| 1603 | 2L | 10014 | - | l(2)gl | FBgn0002121 | 1 | 4 | 0.012649 |\n",
       "| 1604 | 2L | 10015 | - | l(2)gl | FBgn0002121 | 2 | 4 | 0.012649 |\n",
       "| 1605 | 2L | 10023 | - | l(2)gl | FBgn0002121 | 1 | 4 | 0.012649 |\n",
       "| 1606 | 2L | 10024 | - | l(2)gl | FBgn0002121 | 2 | 4 | 0.012649 |\n",
       "| 1607 | 2L | 10025 | - | l(2)gl | FBgn0002121 | 1 | 4 | 0.012649 |\n",
       "\n"
      ],
      "text/plain": [
       "     chrom position strand name   group_id    score score_extended FDR     \n",
       "1602 2L    10013    -      l(2)gl FBgn0002121 1     4              0.012649\n",
       "1603 2L    10014    -      l(2)gl FBgn0002121 1     4              0.012649\n",
       "1604 2L    10015    -      l(2)gl FBgn0002121 2     4              0.012649\n",
       "1605 2L    10023    -      l(2)gl FBgn0002121 1     4              0.012649\n",
       "1606 2L    10024    -      l(2)gl FBgn0002121 2     4              0.012649\n",
       "1607 2L    10025    -      l(2)gl FBgn0002121 1     4              0.012649"
      ]
     },
     "metadata": {},
     "output_type": "display_data"
    }
   ],
   "source": [
    "head(sigPeaks1)\n",
    "head(sigPeaks2)"
   ]
  },
  {
   "cell_type": "code",
   "execution_count": 10,
   "metadata": {
    "vscode": {
     "languageId": "r"
    }
   },
   "outputs": [],
   "source": [
    "#we keep only rows with score >=5\n",
    "sigPeaks1=sigPeaks1[sigPeaks1$score>=5,]\n",
    "sigPeaks2=sigPeaks2[sigPeaks2$score>=5,]"
   ]
  },
  {
   "cell_type": "code",
   "execution_count": 11,
   "metadata": {
    "vscode": {
     "languageId": "r"
    }
   },
   "outputs": [],
   "source": [
    "#sum up scores for each gene\n",
    "data_sum1 <- aggregate(score ~ group_id+name, sigPeaks1, sum)                # Consolidate duplicates\n",
    "data_sum2 <- aggregate(score ~ group_id+name, sigPeaks2, sum)"
   ]
  },
  {
   "cell_type": "code",
   "execution_count": 12,
   "metadata": {
    "vscode": {
     "languageId": "r"
    }
   },
   "outputs": [],
   "source": [
    "#count the number of peaks (defined as the number of rows per gene)\n",
    "occPeaks_g080=merge(data.frame(table(sigPeaks1$group_id)), data_sum1, by.x='Var1', by.y='group_id')\n",
    "occPeaks_dpld=merge(data.frame(table(sigPeaks2$group_id)), data_sum2, by.x='Var1', by.y='group_id')\n"
   ]
  },
  {
   "cell_type": "code",
   "execution_count": 13,
   "metadata": {
    "vscode": {
     "languageId": "r"
    }
   },
   "outputs": [
    {
     "data": {
      "text/html": [
       "<table class=\"dataframe\">\n",
       "<caption>A data.frame: 6 × 4</caption>\n",
       "<thead>\n",
       "\t<tr><th></th><th scope=col>Var1</th><th scope=col>Freq</th><th scope=col>name</th><th scope=col>score</th></tr>\n",
       "\t<tr><th></th><th scope=col>&lt;fct&gt;</th><th scope=col>&lt;int&gt;</th><th scope=col>&lt;chr&gt;</th><th scope=col>&lt;int&gt;</th></tr>\n",
       "</thead>\n",
       "<tbody>\n",
       "\t<tr><th scope=row>1</th><td>FBgn0000024</td><td> 9</td><td>Ace        </td><td> 53</td></tr>\n",
       "\t<tr><th scope=row>2</th><td>FBgn0000028</td><td> 1</td><td>acj6       </td><td>  7</td></tr>\n",
       "\t<tr><th scope=row>3</th><td>FBgn0000036</td><td> 1</td><td>nAChRalpha1</td><td>  5</td></tr>\n",
       "\t<tr><th scope=row>4</th><td>FBgn0000038</td><td> 1</td><td>nAChRbeta1 </td><td>  5</td></tr>\n",
       "\t<tr><th scope=row>5</th><td>FBgn0000042</td><td>54</td><td>Act5C      </td><td>380</td></tr>\n",
       "\t<tr><th scope=row>6</th><td>FBgn0000046</td><td>24</td><td>Act87E     </td><td>167</td></tr>\n",
       "</tbody>\n",
       "</table>\n"
      ],
      "text/latex": [
       "A data.frame: 6 × 4\n",
       "\\begin{tabular}{r|llll}\n",
       "  & Var1 & Freq & name & score\\\\\n",
       "  & <fct> & <int> & <chr> & <int>\\\\\n",
       "\\hline\n",
       "\t1 & FBgn0000024 &  9 & Ace         &  53\\\\\n",
       "\t2 & FBgn0000028 &  1 & acj6        &   7\\\\\n",
       "\t3 & FBgn0000036 &  1 & nAChRalpha1 &   5\\\\\n",
       "\t4 & FBgn0000038 &  1 & nAChRbeta1  &   5\\\\\n",
       "\t5 & FBgn0000042 & 54 & Act5C       & 380\\\\\n",
       "\t6 & FBgn0000046 & 24 & Act87E      & 167\\\\\n",
       "\\end{tabular}\n"
      ],
      "text/markdown": [
       "\n",
       "A data.frame: 6 × 4\n",
       "\n",
       "| <!--/--> | Var1 &lt;fct&gt; | Freq &lt;int&gt; | name &lt;chr&gt; | score &lt;int&gt; |\n",
       "|---|---|---|---|---|\n",
       "| 1 | FBgn0000024 |  9 | Ace         |  53 |\n",
       "| 2 | FBgn0000028 |  1 | acj6        |   7 |\n",
       "| 3 | FBgn0000036 |  1 | nAChRalpha1 |   5 |\n",
       "| 4 | FBgn0000038 |  1 | nAChRbeta1  |   5 |\n",
       "| 5 | FBgn0000042 | 54 | Act5C       | 380 |\n",
       "| 6 | FBgn0000046 | 24 | Act87E      | 167 |\n",
       "\n"
      ],
      "text/plain": [
       "  Var1        Freq name        score\n",
       "1 FBgn0000024  9   Ace          53  \n",
       "2 FBgn0000028  1   acj6          7  \n",
       "3 FBgn0000036  1   nAChRalpha1   5  \n",
       "4 FBgn0000038  1   nAChRbeta1    5  \n",
       "5 FBgn0000042 54   Act5C       380  \n",
       "6 FBgn0000046 24   Act87E      167  "
      ]
     },
     "metadata": {},
     "output_type": "display_data"
    }
   ],
   "source": [
    "head(occPeaks_g080)"
   ]
  }
 ],
 "metadata": {
  "kernelspec": {
   "display_name": "R",
   "language": "R",
   "name": "ir"
  },
  "language_info": {
   "codemirror_mode": "r",
   "file_extension": ".r",
   "mimetype": "text/x-r-source",
   "name": "R",
   "pygments_lexer": "r",
   "version": "4.2.2"
  }
 },
 "nbformat": 4,
 "nbformat_minor": 2
}
